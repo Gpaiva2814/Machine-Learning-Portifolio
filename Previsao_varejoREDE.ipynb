{
 "cells": [
  {
   "attachments": {},
   "cell_type": "markdown",
   "metadata": {},
   "source": [
    "## Import Pacotes"
   ]
  },
  {
   "cell_type": "code",
   "execution_count": null,
   "metadata": {},
   "outputs": [],
   "source": [
    "import pandas as pd\n",
    "import numpy as np\n",
    "from sklearn.model_selection import GridSearchCV\n",
    "from sklearn.metrics import make_scorer, mean_absolute_error, mean_squared_error, r2_score\n",
    "import xgboost as xgb\n",
    "from datetime import datetime\n",
    "from xgboost import plot_importance\n",
    "import matplotlib.pyplot as plt"
   ]
  },
  {
   "attachments": {},
   "cell_type": "markdown",
   "metadata": {},
   "source": [
    "## Funcoes"
   ]
  },
  {
   "cell_type": "code",
   "execution_count": null,
   "metadata": {},
   "outputs": [],
   "source": [
    "def limites_outlier(X_train, label = None):\n",
    "    if label == 'REDE':\n",
    "        LI = (X_train[label]).quantile(0.05)\n",
    "        LS = (X_train[label]).quantile(0.95)\n",
    "\n",
    "    elif label == 'VALOR_TOTAL':\n",
    "        Q1 = (X_train[label]).quantile(0.25)\n",
    "        Q3 = (X_train[label]).quantile(0.75)\n",
    "        IQR = Q3 - Q1\n",
    "        LS = Q3 + 1.5*(IQR)\n",
    "        LI = Q1 - 1.5*(IQR)\n",
    "    return(LI,LS)\n",
    "\n",
    "def create_features(X_train, LI, LS, label=None):\n",
    "    X_train = X_train.copy()\n",
    "    y_train = X_train[label]\n",
    "    X_train['DIA_SEMANA'] = X_train['DATA'].dt.dayofweek\n",
    "    X_train['TRIMESTRE'] = X_train['DATA'].dt.quarter\n",
    "    X_train['MES'] = X_train['DATA'].dt.month\n",
    "    X_train['ANO'] = X_train['DATA'].dt.year\n",
    "    X_train['DIA_ANO'] = X_train['DATA'].dt.dayofyear\n",
    "    X_train['DIA_MES'] = X_train['DATA'].dt.day\n",
    "    X_train['SEMANA_ANO'] = X_train['DATA'].dt.isocalendar().week.astype(int)\n",
    "    X_train['TER'] = (X_train['DATA'].dt.dayofweek == 1).astype(int)\n",
    "    X_train['QUA'] = (X_train['DATA'].dt.dayofweek == 2).astype(int)\n",
    "    X_train['QUI'] = (X_train['DATA'].dt.dayofweek == 3).astype(int)\n",
    "    X_train['SEX'] = (X_train['DATA'].dt.dayofweek == 4).astype(int)\n",
    "    X_train['SAB'] = (X_train['DATA'].dt.dayofweek == 5).astype(int)\n",
    "    X_train['DOM'] = (X_train['DATA'].dt.dayofweek == 6).astype(int)\n",
    "    X_train['SEG'] = (X_train['DATA'].dt.dayofweek == 0).astype(int)\n",
    "    X_train[\"OUTLIER\"] = np.where(y_train>LS,1,np.where(y_train<LI,-1,0))\n",
    "    X_train['DECORRIDO'] = (pd.to_datetime(max(X_train['DATA'])) - pd.to_datetime(X_train['DATA'])).dt.days\n",
    "\n",
    "    if label == 'REDE':\n",
    "        X_train = X_train[['DIA_SEMANA','TRIMESTRE','MES','ANO','DIA_ANO','DIA_MES','SEMANA_ANO','FERIADO','ULTIMO_DIA',\n",
    "                'PRIMEIRO_DIA','SEMANA_MES','VESPERA','BRIDGE','ANO_NOVO','CARNAVAL1','CARNAVAL2','CARNAVAL3',\n",
    "                'PAIXAO_CRISTO','PASCOA','TIRADENTES','DIA_DO_TRABALHO','VESPERA_MAES','DIA_DAS_MAES',\n",
    "                'CORPUS_CHRISTI','DIA_DOS_PAIS','INDEPENDENCIA','APARECIDA','FINADOS','PROC_REPUBLICA',\n",
    "                'BLACK_THURSDAY','BLACK_FRIDAY','VESPERA_NATAL','NATAL','VESPERA_ANO_NOVO','DECORRIDO','OUTLIER',\n",
    "                'POS_SEXTA','VESPERA_SEXTA','SEX','SAB','DOM']]\n",
    "    elif label == 'VALOR_TOTAL':\n",
    "        X_train = X_train[['DIA_SEMANA','TRIMESTRE','MES','ANO','DIA_ANO','DIA_MES','SEMANA_ANO','FERIADO','ULTIMO_DIA',\n",
    "                'PRIMEIRO_DIA','SEMANA_MES','BRIDGE','VESPERA','ANO_NOVO','CARNAVAL1','CARNAVAL2','CARNAVAL3',\n",
    "                'PAIXAO_CRISTO','PASCOA','TIRADENTES','DIA_DO_TRABALHO','VESPERA_MAES','DIA_DAS_MAES',\n",
    "                'CORPUS_CHRISTI','DIA_DOS_PAIS','INDEPENDENCIA','APARECIDA','FINADOS','PROC_REPUBLICA',\n",
    "                'BLACK_THURSDAY','BLACK_FRIDAY','VESPERA_NATAL','NATAL','VESPERA_ANO_NOVO','OUTLIER',\n",
    "                'SEX','SAB','DOM','SEMANA_PASCOA','POS_SEXTA','VESPERA_SEXTA']]\n",
    "    else:\n",
    "        raise ValueError('Invalid label')\n",
    "\n",
    "    \n",
    "\n",
    "    return X_train,y_train\n",
    "\n",
    "def previsao(X_train,X_test,parameters,scoring,label=None,Metric = 'MAE'):\n",
    "    LI,LS = limites_outlier(X_train,label)\n",
    "    X_train,y_train = create_features(X_train,LI,LS,label)\n",
    "    X_test,y_test = create_features(X_test,LI,LS,label)\n",
    "    \n",
    "    if label == 'REDE':\n",
    "        X_test['OUTLIER'] = 0\n",
    "        grid_search = GridSearchCV(xgb.XGBRegressor(), parameters, scoring=scoring, refit=Metric, cv=5)\n",
    "        grid_search.fit(X_train, y_train)\n",
    "        Previsto = (grid_search.best_estimator_).predict(X_test)\n",
    "        importance = plot_importance(grid_search.best_estimator_, height=0.5)\n",
    "        plt.savefig('importance_plot_REDE.png')\n",
    "\n",
    "    elif label == 'VALOR_TOTAL':\n",
    "        grid_search = GridSearchCV(xgb.XGBRegressor(), parameters, scoring=scoring, refit=Metric, cv=5)\n",
    "        grid_search.fit(X_train, y_train)\n",
    "        Previsto = (grid_search.best_estimator_).predict(X_test)\n",
    "        importance = plot_importance(grid_search.best_estimator_, height=0.5)\n",
    "        plt.savefig('importance_plot_VAREJO.png')\n",
    "\n",
    "    return Previsto, importance"
   ]
  },
  {
   "attachments": {},
   "cell_type": "markdown",
   "metadata": {},
   "source": [
    "## Leitura dos dados"
   ]
  },
  {
   "cell_type": "code",
   "execution_count": null,
   "metadata": {},
   "outputs": [],
   "source": [
    "dfpath = r\"\\\\...\\WORK_BASE_XGBOOST.csv\"\n",
    "df = pd.read_csv(dfpath, sep=',')\n",
    "df['DATA'] = pd.to_datetime( df['DATA'], format= \"%d-%m-%y\")\n",
    "df_train = (df.loc[df['DATA'] < pd.to_datetime(datetime.today().replace(hour=0, minute=0, second=0, microsecond=0))])\n",
    "df_pred = (df.loc[df['DATA'] >= pd.to_datetime(datetime.today().replace(hour=0, minute=0, second=0, microsecond=0))])\n",
    "\n",
    "#Ultimo mês sera usado para validacao\n",
    "df = df.loc[df['DATA'] <= '2023-06-30'] \n",
    "df_train = (df.loc[df['DATA'] < '2023-06-01'])\n",
    "df_pred = (df.loc[df['DATA'] >= '2023-06-01'])"
   ]
  },
  {
   "attachments": {},
   "cell_type": "markdown",
   "metadata": {},
   "source": [
    "## Parametros GridSearch"
   ]
  },
  {
   "cell_type": "code",
   "execution_count": null,
   "metadata": {},
   "outputs": [],
   "source": [
    "parameters = {\n",
    "    'n_estimators': [100, 500, 1000],\n",
    "    'max_depth': [3, 6, 9],\n",
    "    'learning_rate': [0.01, 0.1, 0.3],\n",
    "    'objective': ['reg:squarederror','reg:tweedie']\n",
    "}\n",
    "parameters_REDE = {\n",
    "    'n_estimators': [100, 500, 1000],\n",
    "    'max_depth': [3, 6, 9],\n",
    "    'learning_rate': [0.01, 0.1, 0.3],\n",
    "    'objective': ['reg:squarederror']\n",
    "}"
   ]
  },
  {
   "attachments": {},
   "cell_type": "markdown",
   "metadata": {},
   "source": [
    "#### Metricas Escolha do Melhor Modelo"
   ]
  },
  {
   "cell_type": "code",
   "execution_count": null,
   "metadata": {},
   "outputs": [],
   "source": [
    "scoring = {\n",
    "    'MAE': make_scorer(mean_absolute_error, greater_is_better=False),\n",
    "    'MSE': make_scorer(mean_squared_error, greater_is_better=False),\n",
    "    'RMSE': make_scorer(lambda y_true, y_pred: -np.sqrt(mean_squared_error(y_true, y_pred))),\n",
    "    'R2': make_scorer(r2_score)\n",
    "}"
   ]
  },
  {
   "attachments": {},
   "cell_type": "markdown",
   "metadata": {},
   "source": [
    "## Previsao"
   ]
  },
  {
   "cell_type": "code",
   "execution_count": null,
   "metadata": {},
   "outputs": [],
   "source": [
    "Previsao_varejo, importancias_varejo = previsao(df_train,df_pred,parameters,scoring,label='VALOR_TOTAL',Metric= 'MAE')\n",
    "Previsao_REDE, importancias_REDE = previsao(df_train,df_pred,parameters_REDE,scoring,label='VLR_REDE',Metric= 'R2')\n",
    "Previsao_dia = pd.DataFrame({'DATA': df_pred['DATA'],'PREVISAO': Previsao_varejo, 'PREVISAO_REDE': Previsao_REDE})\n",
    "Previsao_dia.tail()"
   ]
  },
  {
   "attachments": {},
   "cell_type": "markdown",
   "metadata": {},
   "source": [
    "## Metricas para Varejo"
   ]
  },
  {
   "cell_type": "code",
   "execution_count": null,
   "metadata": {},
   "outputs": [],
   "source": [
    "MAE = mean_absolute_error(df_pred['VALOR_TOTAL'],Previsao_varejo)\n",
    "MSE = mean_squared_error(df_pred['VALOR_TOTAL'],Previsao_varejo)\n",
    "R2 = r2_score(df_pred['VALOR_TOTAL'],Previsao_varejo)\n",
    "\n",
    "print('MAE:', MAE)\n",
    "print('MSE:', MSE)\n",
    "print('R2:', R2)"
   ]
  },
  {
   "attachments": {},
   "cell_type": "markdown",
   "metadata": {},
   "source": [
    "## Metricas para REDE"
   ]
  },
  {
   "cell_type": "code",
   "execution_count": null,
   "metadata": {},
   "outputs": [],
   "source": [
    "MAE = mean_absolute_error(df_pred['VLR_REDE'],Previsao_REDE)\n",
    "MSE = mean_squared_error(df_pred['VLR_REDE'],Previsao_REDE)\n",
    "R2 = r2_score(df_pred['VLR_REDE'],Previsao_REDE)\n",
    "\n",
    "print('MAE:', MAE)\n",
    "print('MSE:', MSE)\n",
    "print('R2:', R2)"
   ]
  }
 ],
 "metadata": {
  "kernelspec": {
   "display_name": "base",
   "language": "python",
   "name": "python3"
  },
  "language_info": {
   "codemirror_mode": {
    "name": "ipython",
    "version": 3
   },
   "file_extension": ".py",
   "mimetype": "text/x-python",
   "name": "python",
   "nbconvert_exporter": "python",
   "pygments_lexer": "ipython3",
   "version": "3.9.16"
  },
  "orig_nbformat": 4
 },
 "nbformat": 4,
 "nbformat_minor": 2
}
