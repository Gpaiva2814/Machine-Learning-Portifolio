{
 "cells": [
  {
   "cell_type": "code",
   "execution_count": 16,
   "metadata": {},
   "outputs": [],
   "source": [
    "from sklearn import svm\n",
    "import numpy as np\n",
    "import pandas as pd\n",
    "from sklearn.base import BaseEstimator, TransformerMixin\n",
    "from sklearn.pipeline import Pipeline\n",
    "from sklearn.feature_extraction.text import CountVectorizer, TfidfTransformer\n",
    "from sklearn.model_selection import train_test_split\n",
    "from sklearn import metrics\n",
    "import joblib\n",
    "import matplotlib.pyplot as plt"
   ]
  },
  {
   "cell_type": "code",
   "execution_count": 2,
   "metadata": {},
   "outputs": [],
   "source": [
    "datapath = r\"C:\\Users\\gpaiva\\Desktop\\Massa_Inteligencia.xlsx\"\n",
    "data = pd.read_excel(datapath)"
   ]
  },
  {
   "cell_type": "code",
   "execution_count": 3,
   "metadata": {},
   "outputs": [],
   "source": [
    "class TratarCaracteresEspeciaisTransformer(BaseEstimator, TransformerMixin):\n",
    "    def __init__(self):\n",
    "        pass\n",
    "    \n",
    "    def transform(self, X, y=None):\n",
    "        X_transformed = X.copy()\n",
    "        X_transformed = X_transformed.str.replace('[/<>()|\\+\\-\\$%&#@\\'*\\\"]+', ' ', regex=True)\n",
    "        X_transformed = X_transformed.str.replace('[,.:;!?]+', ' ', regex=True)\n",
    "        return X_transformed\n",
    "    \n",
    "    def fit(self, X, y=None):\n",
    "        return self\n",
    "\n",
    "stop_words = ['em','sao','ao','de','da','do','das','no',\n",
    "              'ou','a','o','os','as','um','uns','uma','umas']"
   ]
  },
  {
   "cell_type": "code",
   "execution_count": 4,
   "metadata": {},
   "outputs": [],
   "source": [
    "pipeline = Pipeline([\n",
    "        ('tratar_caracteres', TratarCaracteresEspeciaisTransformer()),\n",
    "        ('vectorize', CountVectorizer(ngram_range=(1,2), stop_words=stop_words)),\n",
    "        ('score', TfidfTransformer()),\n",
    "        ('svm',svm.SVC(kernel='linear',probability=True)),  \n",
    "    ])"
   ]
  },
  {
   "cell_type": "code",
   "execution_count": 5,
   "metadata": {},
   "outputs": [],
   "source": [
    "X_train, X_test, y_train, y_test = train_test_split(\n",
    "    data['Exemplo'], data[\"Classificacao\"], test_size=0.2, random_state=42)"
   ]
  },
  {
   "cell_type": "code",
   "execution_count": 6,
   "metadata": {},
   "outputs": [],
   "source": [
    "model = pipeline.fit(X_train,y_train)"
   ]
  },
  {
   "cell_type": "code",
   "execution_count": 7,
   "metadata": {},
   "outputs": [],
   "source": [
    "y_pred = model.predict(X_test)\n",
    "prob = model.predict_proba(X_test)\n",
    "conf = [max(prob[i]) for i in range(len(prob))]"
   ]
  },
  {
   "cell_type": "code",
   "execution_count": 8,
   "metadata": {},
   "outputs": [
    {
     "data": {
      "text/html": [
       "<div>\n",
       "<style scoped>\n",
       "    .dataframe tbody tr th:only-of-type {\n",
       "        vertical-align: middle;\n",
       "    }\n",
       "\n",
       "    .dataframe tbody tr th {\n",
       "        vertical-align: top;\n",
       "    }\n",
       "\n",
       "    .dataframe thead th {\n",
       "        text-align: right;\n",
       "    }\n",
       "</style>\n",
       "<table border=\"1\" class=\"dataframe\">\n",
       "  <thead>\n",
       "    <tr style=\"text-align: right;\">\n",
       "      <th></th>\n",
       "      <th>Exemplo</th>\n",
       "      <th>Classificacao</th>\n",
       "      <th>Pred</th>\n",
       "      <th>Conf</th>\n",
       "      <th>predict</th>\n",
       "    </tr>\n",
       "  </thead>\n",
       "  <tbody>\n",
       "    <tr>\n",
       "      <th>25609</th>\n",
       "      <td>NUTELLA B-READY 1X36X4</td>\n",
       "      <td>mercearia__alimentos_secos__matinais/lanches</td>\n",
       "      <td>mercearia__alimentos_secos__matinais/lanches</td>\n",
       "      <td>0.995585</td>\n",
       "      <td>1</td>\n",
       "    </tr>\n",
       "    <tr>\n",
       "      <th>31738</th>\n",
       "      <td>REFRI GUARANA ANTARTICA 1L PET</td>\n",
       "      <td>bebidas__nao_alcoolicas__sucos/refrigerantes/cha</td>\n",
       "      <td>bebidas__nao_alcoolicas__sucos/refrigerantes/cha</td>\n",
       "      <td>0.999515</td>\n",
       "      <td>1</td>\n",
       "    </tr>\n",
       "    <tr>\n",
       "      <th>5346</th>\n",
       "      <td>BICARBONATO DE SODIO PIRATA 30G</td>\n",
       "      <td>mercearia__alimentos_secos__molhos/_temperos/_...</td>\n",
       "      <td>mercearia__alimentos_secos__molhos/_temperos/_...</td>\n",
       "      <td>0.999148</td>\n",
       "      <td>1</td>\n",
       "    </tr>\n",
       "    <tr>\n",
       "      <th>46074</th>\n",
       "      <td>ap barb presto ultragrip fem 2un</td>\n",
       "      <td>higiene_e_beleza__cosmetica/cuidado_pessoal__c...</td>\n",
       "      <td>higiene_e_beleza__cosmetica/cuidado_pessoal__c...</td>\n",
       "      <td>0.998417</td>\n",
       "      <td>1</td>\n",
       "    </tr>\n",
       "    <tr>\n",
       "      <th>50597</th>\n",
       "      <td>bolo chocolate unidade</td>\n",
       "      <td>pereciveis__frescos__padaria/_doceria/_rotisseria</td>\n",
       "      <td>pereciveis__frescos__padaria/_doceria/_rotisseria</td>\n",
       "      <td>0.998794</td>\n",
       "      <td>1</td>\n",
       "    </tr>\n",
       "  </tbody>\n",
       "</table>\n",
       "</div>"
      ],
      "text/plain": [
       "                                Exemplo  \\\n",
       "25609            NUTELLA B-READY 1X36X4   \n",
       "31738    REFRI GUARANA ANTARTICA 1L PET   \n",
       "5346    BICARBONATO DE SODIO PIRATA 30G   \n",
       "46074  ap barb presto ultragrip fem 2un   \n",
       "50597            bolo chocolate unidade   \n",
       "\n",
       "                                           Classificacao  \\\n",
       "25609       mercearia__alimentos_secos__matinais/lanches   \n",
       "31738   bebidas__nao_alcoolicas__sucos/refrigerantes/cha   \n",
       "5346   mercearia__alimentos_secos__molhos/_temperos/_...   \n",
       "46074  higiene_e_beleza__cosmetica/cuidado_pessoal__c...   \n",
       "50597  pereciveis__frescos__padaria/_doceria/_rotisseria   \n",
       "\n",
       "                                                    Pred      Conf  predict  \n",
       "25609       mercearia__alimentos_secos__matinais/lanches  0.995585        1  \n",
       "31738   bebidas__nao_alcoolicas__sucos/refrigerantes/cha  0.999515        1  \n",
       "5346   mercearia__alimentos_secos__molhos/_temperos/_...  0.999148        1  \n",
       "46074  higiene_e_beleza__cosmetica/cuidado_pessoal__c...  0.998417        1  \n",
       "50597  pereciveis__frescos__padaria/_doceria/_rotisseria  0.998794        1  "
      ]
     },
     "execution_count": 8,
     "metadata": {},
     "output_type": "execute_result"
    }
   ],
   "source": [
    "output = {'Exemplo': X_test, 'Classificacao': y_test, 'Pred': y_pred, 'Conf': conf}\n",
    "output = pd.DataFrame(output)\n",
    "output['Conf'] = (output['Conf']).astype(float)\n",
    "output['predict'] = output.apply(lambda row: 1 if row['Classificacao'] == row['Pred'] else 0, axis=1)\n",
    "output.head()"
   ]
  },
  {
   "attachments": {},
   "cell_type": "markdown",
   "metadata": {},
   "source": [
    "No contexto do problema de negócio, um dos principais objetivos era obter uma base de dados o mais limpa possível, minimizando as classificações falsas positivas. Para alcançar esse objetivo, foi realizada uma análise de threshold (limiar) para determinar o ponto que maximizava os valores de precisão, recall e F1-score. Nessa análise, as saídas foram convertidas em duas categorias: 0 (classificação errada) e 1 (classificação correta).\n",
    "\n",
    "Essa análise de threshold nos forneceu uma maneira eficaz de otimizar o desempenho do modelo, garantindo que as classificações incorretas fossem minimizadas, o que é especialmente importante em problemas em que a precisão e a confiabilidade das classificações são críticas para o sucesso das operações e dos processos de negócio."
   ]
  },
  {
   "cell_type": "code",
   "execution_count": 17,
   "metadata": {},
   "outputs": [],
   "source": [
    "def best_treshold(probabilidades,y_true):\n",
    "    import warnings\n",
    "\n",
    "    # Desativar todos os avisos\n",
    "    warnings.filterwarnings(\"ignore\")\n",
    "    \n",
    "    # Definir uma lista de thresholds a serem avaliados\n",
    "    thresholds = [i/100 for i in range(1, 100)]\n",
    "\n",
    "    # Listas para armazenar os resultados\n",
    "    results = []\n",
    "    columns = ['Threshold', 'Precision', 'Recall', 'F1-score']\n",
    "\n",
    "    # Iterar sobre os thresholds e calcular as métricas de desempenho\n",
    "    for threshold in thresholds:\n",
    "        # Aplicar o threshold para obter as previsões\n",
    "        y_pred_encod = [1 if prob >= threshold else 0 for prob in probabilidades]\n",
    "\n",
    "        # Calcular as métricas de desempenho\n",
    "        precision = metrics.precision_score(y_true, y_pred_encod, average='weighted')\n",
    "        recall = metrics.recall_score(y_true, y_pred_encod, average='weighted')\n",
    "        f1_score = metrics.f1_score(y_true, y_pred_encod, average='weighted')\n",
    "\n",
    "        # Adicionar os resultados à lista\n",
    "        results.append([threshold, precision, recall, f1_score])\n",
    "\n",
    "    # Criar o DataFrame com os resultados\n",
    "    df_results = pd.DataFrame(results, columns=columns)\n",
    "    return df_results"
   ]
  },
  {
   "cell_type": "code",
   "execution_count": 18,
   "metadata": {},
   "outputs": [
    {
     "data": {
      "text/plain": [
       "Threshold    0.530000\n",
       "Precision    0.956767\n",
       "Recall       0.962253\n",
       "F1-score     0.958858\n",
       "Name: 52, dtype: float64"
      ]
     },
     "execution_count": 18,
     "metadata": {},
     "output_type": "execute_result"
    }
   ],
   "source": [
    "validacao_tresholds = best_treshold(output['Conf'],output['predict'])\n",
    "validacao_tresholds.loc[validacao_tresholds['F1-score'].idxmax()]"
   ]
  }
 ],
 "metadata": {
  "kernelspec": {
   "display_name": "base",
   "language": "python",
   "name": "python3"
  },
  "language_info": {
   "codemirror_mode": {
    "name": "ipython",
    "version": 3
   },
   "file_extension": ".py",
   "mimetype": "text/x-python",
   "name": "python",
   "nbconvert_exporter": "python",
   "pygments_lexer": "ipython3",
   "version": "3.9.16"
  },
  "orig_nbformat": 4
 },
 "nbformat": 4,
 "nbformat_minor": 2
}
