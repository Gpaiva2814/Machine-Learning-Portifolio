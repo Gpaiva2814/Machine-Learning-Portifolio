{
 "cells": [
  {
   "cell_type": "code",
   "execution_count": 3,
   "metadata": {},
   "outputs": [],
   "source": [
    "import pandas as pd\n",
    "from sklearn import svm\n",
    "from sklearn.feature_extraction.text import CountVectorizer\n",
    "from sklearn.feature_extraction.text import TfidfTransformer\n",
    "from sklearn.linear_model import PassiveAggressiveClassifier\n",
    "from sklearn.model_selection import train_test_split\n",
    "from sklearn.metrics import roc_curve, auc\n",
    "from sklearn.feature_extraction.text import TfidfTransformer \n",
    "from sklearn import metrics\n",
    "from sklearn.pipeline import Pipeline\n",
    "from sklearn.base import BaseEstimator, TransformerMixin\n",
    "import matplotlib.pyplot as plt\n",
    "from sklearn.calibration import CalibratedClassifierCV"
   ]
  },
  {
   "cell_type": "code",
   "execution_count": 6,
   "metadata": {},
   "outputs": [],
   "source": [
    "datapath = r\"C:\\...\\WORK_BASE_GTIN.xlsx\"\n",
    "data = pd.read_excel(datapath)\n",
    "class TratarCaracteresEspeciaisTransformer(BaseEstimator, TransformerMixin):\n",
    "    def __init__(self):\n",
    "        pass\n",
    "    \n",
    "    def transform(self, X, y=None):\n",
    "        X_transformed = X.copy()\n",
    "        X_transformed = X_transformed.str.replace('[/<>()|\\+\\-\\$%&#@\\'*\\\"]+', ' ', regex=True)\n",
    "        X_transformed = X_transformed.str.replace('[,.:;!?]+', ' ', regex=True)\n",
    "        return X_transformed\n",
    "    \n",
    "    def fit(self, X, y=None):\n",
    "        return self"
   ]
  },
  {
   "cell_type": "code",
   "execution_count": 7,
   "metadata": {},
   "outputs": [],
   "source": [
    "stop_words = ['em','sao','ao','de','da','do','das','no',\n",
    "              'ou','a','o','os','as','um','uns','uma','umas']"
   ]
  },
  {
   "cell_type": "code",
   "execution_count": 8,
   "metadata": {},
   "outputs": [],
   "source": [
    "# data[\"GTIN\"] = data[\"GTIN\"].astype('category')\n",
    "X_train, X_test, y_train, y_test = train_test_split(\n",
    "    data['Exemplo'], data[\"GTIN\"], test_size=0.2, random_state=42)"
   ]
  },
  {
   "cell_type": "code",
   "execution_count": 9,
   "metadata": {},
   "outputs": [],
   "source": [
    "pipeline_pac = Pipeline([\n",
    "    ('tratar_caracteres', TratarCaracteresEspeciaisTransformer()),\n",
    "    ('vectorize', CountVectorizer(ngram_range=(1, 2), stop_words=stop_words)),\n",
    "    ('score', TfidfTransformer()),\n",
    "    ('pac', CalibratedClassifierCV(PassiveAggressiveClassifier()))\n",
    "])"
   ]
  },
  {
   "cell_type": "code",
   "execution_count": 10,
   "metadata": {},
   "outputs": [
    {
     "name": "stderr",
     "output_type": "stream",
     "text": [
      "c:\\Users\\gpaiva\\Anaconda3\\lib\\site-packages\\sklearn\\model_selection\\_split.py:700: UserWarning: The least populated class in y has only 1 members, which is less than n_splits=5.\n",
      "  warnings.warn(\n"
     ]
    }
   ],
   "source": [
    "pipeline_pac.fit(X_train,y_train)\n",
    "y_pred_pac = pipeline_pac.predict(X_test)\n",
    "probas_pac = pipeline_pac.predict_proba(X_test)"
   ]
  },
  {
   "cell_type": "code",
   "execution_count": 11,
   "metadata": {},
   "outputs": [
    {
     "data": {
      "text/html": [
       "<div>\n",
       "<style scoped>\n",
       "    .dataframe tbody tr th:only-of-type {\n",
       "        vertical-align: middle;\n",
       "    }\n",
       "\n",
       "    .dataframe tbody tr th {\n",
       "        vertical-align: top;\n",
       "    }\n",
       "\n",
       "    .dataframe thead th {\n",
       "        text-align: right;\n",
       "    }\n",
       "</style>\n",
       "<table border=\"1\" class=\"dataframe\">\n",
       "  <thead>\n",
       "    <tr style=\"text-align: right;\">\n",
       "      <th></th>\n",
       "      <th>Exemplo</th>\n",
       "      <th>GTIN</th>\n",
       "      <th>Pred</th>\n",
       "      <th>Conf</th>\n",
       "      <th>predict</th>\n",
       "    </tr>\n",
       "  </thead>\n",
       "  <tbody>\n",
       "    <tr>\n",
       "      <th>5121</th>\n",
       "      <td>AZEITE BORGES EV 500</td>\n",
       "      <td>8410179100036</td>\n",
       "      <td>8410179100036</td>\n",
       "      <td>0.699415</td>\n",
       "      <td>1</td>\n",
       "    </tr>\n",
       "    <tr>\n",
       "      <th>20374</th>\n",
       "      <td>DS AEROSOL ABOVE doce vila 150ML</td>\n",
       "      <td>7899674026989</td>\n",
       "      <td>4005900521934</td>\n",
       "      <td>0.064899</td>\n",
       "      <td>0</td>\n",
       "    </tr>\n",
       "    <tr>\n",
       "      <th>40016</th>\n",
       "      <td>SABONETE P. E. D. 85GR</td>\n",
       "      <td>7891024034880</td>\n",
       "      <td>7891024034781</td>\n",
       "      <td>0.637374</td>\n",
       "      <td>0</td>\n",
       "    </tr>\n",
       "    <tr>\n",
       "      <th>5260</th>\n",
       "      <td>AZEITE DE OLIVA EXTRA VIRGEM ESPANHOL BO</td>\n",
       "      <td>8410179100050</td>\n",
       "      <td>8410179100036</td>\n",
       "      <td>0.601197</td>\n",
       "      <td>0</td>\n",
       "    </tr>\n",
       "    <tr>\n",
       "      <th>644</th>\n",
       "      <td>ABS SEMPRE LIVRE ESPECIAL SUAVE ABAS</td>\n",
       "      <td>7891010793463</td>\n",
       "      <td>7891010793463</td>\n",
       "      <td>0.831948</td>\n",
       "      <td>1</td>\n",
       "    </tr>\n",
       "  </tbody>\n",
       "</table>\n",
       "</div>"
      ],
      "text/plain": [
       "                                        Exemplo           GTIN           Pred  \\\n",
       "5121                       AZEITE BORGES EV 500  8410179100036  8410179100036   \n",
       "20374          DS AEROSOL ABOVE doce vila 150ML  7899674026989  4005900521934   \n",
       "40016                    SABONETE P. E. D. 85GR  7891024034880  7891024034781   \n",
       "5260   AZEITE DE OLIVA EXTRA VIRGEM ESPANHOL BO  8410179100050  8410179100036   \n",
       "644        ABS SEMPRE LIVRE ESPECIAL SUAVE ABAS  7891010793463  7891010793463   \n",
       "\n",
       "           Conf  predict  \n",
       "5121   0.699415        1  \n",
       "20374  0.064899        0  \n",
       "40016  0.637374        0  \n",
       "5260   0.601197        0  \n",
       "644    0.831948        1  "
      ]
     },
     "execution_count": 11,
     "metadata": {},
     "output_type": "execute_result"
    }
   ],
   "source": [
    "conf_pac  = [max(probas_pac[i]) for i in range(len(probas_pac))]\n",
    "output_pac = {'Exemplo': X_test, 'GTIN': y_test, 'Pred': y_pred_pac, 'Conf': conf_pac}\n",
    "output_pac = pd.DataFrame(output_pac)\n",
    "output_pac['Conf'] = (output_pac['Conf']).astype(float)\n",
    "output_pac['predict'] = output_pac.apply(lambda row: 1 if row['GTIN'] == row['Pred'] else 0, axis=1)\n",
    "output_pac.head()"
   ]
  },
  {
   "attachments": {},
   "cell_type": "markdown",
   "metadata": {},
   "source": [
    "No contexto do problema de negócio, um dos principais objetivos era obter uma base de dados o mais limpa possível, minimizando as classificações falsas positivas. Para alcançar esse objetivo, foi realizada uma análise de threshold (limiar) para determinar o ponto que maximizava os valores de precisão, recall e F1-score. Nessa análise, as saídas foram convertidas em duas categorias: 0 (classificação errada) e 1 (classificação correta).\n",
    "\n",
    "Essa análise de threshold nos forneceu uma maneira eficaz de otimizar o desempenho do modelo, garantindo que as classificações incorretas fossem minimizadas, o que é especialmente importante em problemas em que a precisão e a confiabilidade das classificações são críticas para o sucesso das operações e dos processos de negócio."
   ]
  },
  {
   "cell_type": "code",
   "execution_count": 12,
   "metadata": {},
   "outputs": [],
   "source": [
    "def best_treshold(probabilidades,y_true):\n",
    "    import warnings\n",
    "\n",
    "    # Desativar todos os avisos\n",
    "    warnings.filterwarnings(\"ignore\")\n",
    "    \n",
    "    # Definir uma lista de thresholds a serem avaliados\n",
    "    thresholds = [i/100 for i in range(1, 100)]\n",
    "\n",
    "    # Listas para armazenar os resultados\n",
    "    results = []\n",
    "    columns = ['Threshold', 'Precision', 'Recall', 'F1-score']\n",
    "\n",
    "    # Iterar sobre os thresholds e calcular as métricas de desempenho\n",
    "    for threshold in thresholds:\n",
    "        # Aplicar o threshold para obter as previsões\n",
    "        y_pred_encod = [1 if prob >= threshold else 0 for prob in probabilidades]\n",
    "\n",
    "        # Calcular as métricas de desempenho\n",
    "        precision = metrics.precision_score(y_true, y_pred_encod, average='weighted')\n",
    "        recall = metrics.recall_score(y_true, y_pred_encod, average='weighted')\n",
    "        f1_score = metrics.f1_score(y_true, y_pred_encod, average='weighted')\n",
    "\n",
    "        # Adicionar os resultados à lista\n",
    "        results.append([threshold, precision, recall, f1_score])\n",
    "\n",
    "    # Criar o DataFrame com os resultados\n",
    "    df_results = pd.DataFrame(results, columns=columns)\n",
    "    return df_results"
   ]
  },
  {
   "cell_type": "code",
   "execution_count": 13,
   "metadata": {},
   "outputs": [
    {
     "data": {
      "text/plain": [
       "Threshold    0.410000\n",
       "Precision    0.859975\n",
       "Recall       0.862653\n",
       "F1-score     0.861190\n",
       "Name: 40, dtype: float64"
      ]
     },
     "execution_count": 13,
     "metadata": {},
     "output_type": "execute_result"
    }
   ],
   "source": [
    "validacao_tresholds = best_treshold(output_pac['Conf'],output_pac['predict'])\n",
    "validacao_tresholds.loc[validacao_tresholds['F1-score'].idxmax()]"
   ]
  },
  {
   "cell_type": "code",
   "execution_count": null,
   "metadata": {},
   "outputs": [],
   "source": [
    "#MODELO XGB - Xtreeme Gradient Boosting\n",
    "pipeline_xgb = Pipeline([\n",
    "    ('bow', CountVectorizer(ngram_range=(1,2),stop_words= stop_words)),  # strings to token integer counts\n",
    "    ('tfidf', TfidfTransformer()),  # integer counts to weighted TF-IDF scores\n",
    "    ('XGB', XGBClassifier(n_estimators=100, learning_rate=0.1, max_depth=3)), # use XGB as the classifier\n",
    "])\n",
    "le = LabelEncoder()\n",
    "y_train_encoded = le.fit_transform(y_train)\n",
    "pipeline_xgb.fit(X_train, y_train_encoded)\n",
    "y_pred_xgb = pipeline_xgb.predict(X_test)\n",
    "y_test_encoded = le.fit_transform(y_test)\n",
    "prob_xgb = pipeline_xgb.predict_proba(X_test)\n",
    "conf_xgb  = [max(prob_xgb[i]) for i in range(len(prob_xgb))]\n",
    "output_xgb = {'Exemplo': X_test, 'GTIN': y_test_encoded, 'Pred': y_pred_xgb, 'Conf':conf_xgb}\n",
    "output_xgb = pd.DataFrame(output_xgb)\n",
    "accuracy_xgb = accuracy_score(y_test_encoded, y_pred_xgb)\n",
    "print(\"Acurácia do modelo: {:.2f}%\".format(accuracy_xgb * 100))\n",
    "output_xgb.to_csv(r'C:\\Users\\gpaiva\\Desktop\\Classificador_GTIN\\resultado_XGB.csv')"
   ]
  }
 ],
 "metadata": {
  "kernelspec": {
   "display_name": "base",
   "language": "python",
   "name": "python3"
  },
  "language_info": {
   "codemirror_mode": {
    "name": "ipython",
    "version": 3
   },
   "file_extension": ".py",
   "mimetype": "text/x-python",
   "name": "python",
   "nbconvert_exporter": "python",
   "pygments_lexer": "ipython3",
   "version": "3.9.16"
  },
  "orig_nbformat": 4
 },
 "nbformat": 4,
 "nbformat_minor": 2
}
